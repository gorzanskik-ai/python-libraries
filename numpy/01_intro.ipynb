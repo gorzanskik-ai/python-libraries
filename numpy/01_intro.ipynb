{
  "nbformat": 4,
  "nbformat_minor": 0,
  "metadata": {
    "colab": {
      "provenance": [],
      "authorship_tag": "ABX9TyPnEAC56UFcAjUbBTUEM2F6",
      "include_colab_link": true
    },
    "kernelspec": {
      "name": "python3",
      "display_name": "Python 3"
    },
    "language_info": {
      "name": "python"
    }
  },
  "cells": [
    {
      "cell_type": "markdown",
      "metadata": {
        "id": "view-in-github",
        "colab_type": "text"
      },
      "source": [
        "<a href=\"https://colab.research.google.com/github/gorzanskik-ai/python-libraries/blob/main/numpy/01_intro.ipynb\" target=\"_parent\"><img src=\"https://colab.research.google.com/assets/colab-badge.svg\" alt=\"Open In Colab\"/></a>"
      ]
    },
    {
      "cell_type": "code",
      "source": [
        "import numpy as np"
      ],
      "metadata": {
        "id": "kXfDUniM0qqw"
      },
      "execution_count": null,
      "outputs": []
    },
    {
      "cell_type": "markdown",
      "source": [
        "Tablice"
      ],
      "metadata": {
        "id": "ZgqaB2id3dBX"
      }
    },
    {
      "cell_type": "code",
      "source": [
        "arr = np.array([1, 2])  #wszystkie elementy w tablicy muszą być tego samego typu\n",
        "print(arr)\n",
        "print(type(arr))"
      ],
      "metadata": {
        "colab": {
          "base_uri": "https://localhost:8080/"
        },
        "id": "GFYEAVoa0r4_",
        "outputId": "c82a1939-e1dd-4ae8-b648-f3c6d9dafc13"
      },
      "execution_count": null,
      "outputs": [
        {
          "output_type": "stream",
          "name": "stdout",
          "text": [
            "[1 2]\n",
            "<class 'numpy.ndarray'>\n"
          ]
        }
      ]
    },
    {
      "cell_type": "code",
      "source": [
        "print('wymiar tablicy:', arr.ndim)\n",
        "print('kształt tablicy:', arr.shape)\n",
        "print('rozmiar tablicy:', arr.size)\n",
        "print('typ danych w tablicy:', arr.dtype)"
      ],
      "metadata": {
        "colab": {
          "base_uri": "https://localhost:8080/"
        },
        "id": "GA7_Qnic2dBI",
        "outputId": "bb3f187c-706f-4d60-c950-0d4b036afb97"
      },
      "execution_count": null,
      "outputs": [
        {
          "output_type": "stream",
          "name": "stdout",
          "text": [
            "wymiar tablicy: 1\n",
            "kształt tablicy: (2,)\n",
            "rozmiar tablicy: 2\n",
            "typ danych w tablicy: int64\n"
          ]
        }
      ]
    },
    {
      "cell_type": "code",
      "source": [
        "arr2d = np.array([[1, 2], [3, 4]])  #tablica 2D"
      ],
      "metadata": {
        "id": "r4eh_3PE3LOO"
      },
      "execution_count": null,
      "outputs": []
    },
    {
      "cell_type": "code",
      "source": [
        "print('wymiar tablicy:', arr2d.ndim)\n",
        "print('kształt tablicy:', arr2d.shape)\n",
        "print('rozmiar tablicy:', arr2d.size)\n",
        "print('typ danych w tablicy:', arr2d.dtype)"
      ],
      "metadata": {
        "colab": {
          "base_uri": "https://localhost:8080/"
        },
        "id": "QOFFmHd330dW",
        "outputId": "cc4ef028-27c5-424d-e0ef-c2f610ded3ea"
      },
      "execution_count": null,
      "outputs": [
        {
          "output_type": "stream",
          "name": "stdout",
          "text": [
            "wymiar tablicy: 2\n",
            "kształt tablicy: (2, 2)\n",
            "rozmiar tablicy: 4\n",
            "typ danych w tablicy: int64\n"
          ]
        }
      ]
    },
    {
      "cell_type": "code",
      "source": [
        "arr3d = np.array([[[1, 2, 3],  #tablica 3D\n",
        "                    [1, 2, 3]],\n",
        "                   [[1, 2, 3],\n",
        "                    [1, 2, 3]]])"
      ],
      "metadata": {
        "id": "0tafXQbD4bCW"
      },
      "execution_count": null,
      "outputs": []
    },
    {
      "cell_type": "code",
      "source": [
        "print('wymiar tablicy:', arr3d.ndim)\n",
        "print('kształt tablicy:', arr3d.shape)  #(tablice, wiersze, kolumny)\n",
        "print('rozmiar tablicy:', arr3d.size)\n",
        "print('typ danych w tablicy:', arr3d.dtype)"
      ],
      "metadata": {
        "colab": {
          "base_uri": "https://localhost:8080/"
        },
        "id": "c118TYBG6K5r",
        "outputId": "f8d39aa5-177d-4e34-f8da-e61dea553fd1"
      },
      "execution_count": null,
      "outputs": [
        {
          "output_type": "stream",
          "name": "stdout",
          "text": [
            "wymiar tablicy: 3\n",
            "kształt tablicy: (2, 2, 3)\n",
            "rozmiar tablicy: 12\n",
            "typ danych w tablicy: int64\n"
          ]
        }
      ]
    },
    {
      "cell_type": "markdown",
      "source": [
        "Inne sposoby tworzenia tablic"
      ],
      "metadata": {
        "id": "zAqfLi9G6Nzs"
      }
    },
    {
      "cell_type": "code",
      "source": [
        "arr = np.zeros(shape=(3, 3), dtype='int')   #tablica zer\n",
        "print(arr)"
      ],
      "metadata": {
        "colab": {
          "base_uri": "https://localhost:8080/"
        },
        "id": "jdxTGCFn_lHq",
        "outputId": "06cc581c-152a-47ee-ed10-f717b2828df9"
      },
      "execution_count": null,
      "outputs": [
        {
          "output_type": "stream",
          "name": "stdout",
          "text": [
            "[[0 0 0]\n",
            " [0 0 0]\n",
            " [0 0 0]]\n"
          ]
        }
      ]
    },
    {
      "cell_type": "code",
      "source": [
        "arr = np.ones(shape=(3, 3), dtype='int')   #tablica jedynek\n",
        "print(arr)"
      ],
      "metadata": {
        "colab": {
          "base_uri": "https://localhost:8080/"
        },
        "id": "m926Ko18_rHa",
        "outputId": "fd0545bf-1660-4abf-a346-32879d6b54e4"
      },
      "execution_count": null,
      "outputs": [
        {
          "output_type": "stream",
          "name": "stdout",
          "text": [
            "[[1 1 1]\n",
            " [1 1 1]\n",
            " [1 1 1]]\n"
          ]
        }
      ]
    },
    {
      "cell_type": "code",
      "source": [
        "arr = np.full(shape=(3, 3), fill_value=11, dtype='int') #tablica złożona z podanych przez nas wartośsci\n",
        "print(arr)"
      ],
      "metadata": {
        "colab": {
          "base_uri": "https://localhost:8080/"
        },
        "id": "_h29uaQI_ykz",
        "outputId": "2c296619-0da2-47e2-cedd-261f2437bc61"
      },
      "execution_count": null,
      "outputs": [
        {
          "output_type": "stream",
          "name": "stdout",
          "text": [
            "[[11 11 11]\n",
            " [11 11 11]\n",
            " [11 11 11]]\n"
          ]
        }
      ]
    },
    {
      "cell_type": "code",
      "source": [
        "arr = np.arange(10)\n",
        "print(arr)"
      ],
      "metadata": {
        "colab": {
          "base_uri": "https://localhost:8080/"
        },
        "id": "87wNEy_W_8x6",
        "outputId": "3f7cbca1-1488-4327-e2c4-802bba17a2cd"
      },
      "execution_count": null,
      "outputs": [
        {
          "output_type": "stream",
          "name": "stdout",
          "text": [
            "[0 1 2 3 4 5 6 7 8 9]\n"
          ]
        }
      ]
    },
    {
      "cell_type": "code",
      "source": [
        "arr = np.arange(start=0, stop=101, step=3)\n",
        "print(arr)"
      ],
      "metadata": {
        "colab": {
          "base_uri": "https://localhost:8080/"
        },
        "id": "rWP1qZFqAFRq",
        "outputId": "9d809c8e-430f-4357-ffb6-f3561d777492"
      },
      "execution_count": null,
      "outputs": [
        {
          "output_type": "stream",
          "name": "stdout",
          "text": [
            "[ 0  3  6  9 12 15 18 21 24 27 30 33 36 39 42 45 48 51 54 57 60 63 66 69\n",
            " 72 75 78 81 84 87 90 93 96 99]\n"
          ]
        }
      ]
    },
    {
      "cell_type": "code",
      "source": [
        "arr = np.linspace(start=1, stop=101, num=27)    #zwraca 'num' elementów równo rozłozonych z przedialu (start, stop)\n",
        "print(arr)"
      ],
      "metadata": {
        "colab": {
          "base_uri": "https://localhost:8080/"
        },
        "id": "sv2fAIs5AM-x",
        "outputId": "bc2bf66f-e647-4d0d-f602-44364a0f52a3"
      },
      "execution_count": null,
      "outputs": [
        {
          "output_type": "stream",
          "name": "stdout",
          "text": [
            "[  1.           4.84615385   8.69230769  12.53846154  16.38461538\n",
            "  20.23076923  24.07692308  27.92307692  31.76923077  35.61538462\n",
            "  39.46153846  43.30769231  47.15384615  51.          54.84615385\n",
            "  58.69230769  62.53846154  66.38461538  70.23076923  74.07692308\n",
            "  77.92307692  81.76923077  85.61538462  89.46153846  93.30769231\n",
            "  97.15384615 101.        ]\n"
          ]
        }
      ]
    },
    {
      "cell_type": "markdown",
      "source": [
        "Zmiana kształtu tablicy"
      ],
      "metadata": {
        "id": "VO98tAo0AoS6"
      }
    },
    {
      "cell_type": "code",
      "source": [
        "A = np.arange(15)\n",
        "print(A)\n",
        "A = A.reshape((3, 5))\n",
        "print(A)"
      ],
      "metadata": {
        "colab": {
          "base_uri": "https://localhost:8080/"
        },
        "id": "IERADGuGCTon",
        "outputId": "ae36e448-c3ad-433b-e07a-882e26386dee"
      },
      "execution_count": null,
      "outputs": [
        {
          "output_type": "stream",
          "name": "stdout",
          "text": [
            "[ 0  1  2  3  4  5  6  7  8  9 10 11 12 13 14]\n",
            "[[ 0  1  2  3  4]\n",
            " [ 5  6  7  8  9]\n",
            " [10 11 12 13 14]]\n"
          ]
        }
      ]
    },
    {
      "cell_type": "code",
      "source": [
        "A.reshape(5, -1)    #-1 oznacza optymalne dobranie ilości kolumn do podanych wierszy i odwrotnie"
      ],
      "metadata": {
        "colab": {
          "base_uri": "https://localhost:8080/"
        },
        "id": "QW6tiwK5CdDo",
        "outputId": "cc3eb629-8a7e-49d1-b587-11a7c54caf65"
      },
      "execution_count": null,
      "outputs": [
        {
          "output_type": "execute_result",
          "data": {
            "text/plain": [
              "array([[ 0,  1,  2],\n",
              "       [ 3,  4,  5],\n",
              "       [ 6,  7,  8],\n",
              "       [ 9, 10, 11],\n",
              "       [12, 13, 14]])"
            ]
          },
          "metadata": {},
          "execution_count": 36
        }
      ]
    },
    {
      "cell_type": "code",
      "source": [
        "A.reshape(-1, 5)"
      ],
      "metadata": {
        "colab": {
          "base_uri": "https://localhost:8080/"
        },
        "id": "cyyv8mptDCzP",
        "outputId": "c40846a1-49bc-4909-a4de-293fc686f2cb"
      },
      "execution_count": null,
      "outputs": [
        {
          "output_type": "execute_result",
          "data": {
            "text/plain": [
              "array([[ 0,  1,  2,  3,  4],\n",
              "       [ 5,  6,  7,  8,  9],\n",
              "       [10, 11, 12, 13, 14]])"
            ]
          },
          "metadata": {},
          "execution_count": 37
        }
      ]
    },
    {
      "cell_type": "markdown",
      "source": [
        "Operacje na tablicach"
      ],
      "metadata": {
        "id": "OX8xEuIiDki4"
      }
    },
    {
      "cell_type": "code",
      "source": [
        "A = np.array([1, 2, 3])\n",
        "B = np.array([1, 2, 3])"
      ],
      "metadata": {
        "id": "ou1RKVC4O0tg"
      },
      "execution_count": null,
      "outputs": []
    },
    {
      "cell_type": "code",
      "source": [
        "print(A + B)    #Dodawanie\n",
        "print(np.add(A, B))"
      ],
      "metadata": {
        "colab": {
          "base_uri": "https://localhost:8080/"
        },
        "id": "htb8oAs3RG7A",
        "outputId": "62ba5ab6-06cc-4a9a-83bd-e0114071130c"
      },
      "execution_count": null,
      "outputs": [
        {
          "output_type": "stream",
          "name": "stdout",
          "text": [
            "[2 4 6]\n",
            "[2 4 6]\n"
          ]
        }
      ]
    },
    {
      "cell_type": "code",
      "source": [
        "print(A - B)    #Odejmowanie\n",
        "print(np.subtract(A, B))"
      ],
      "metadata": {
        "colab": {
          "base_uri": "https://localhost:8080/"
        },
        "id": "l7G4N7czRLYg",
        "outputId": "27e3c1b8-d8e9-4ba5-f0b3-4bde7278b360"
      },
      "execution_count": null,
      "outputs": [
        {
          "output_type": "stream",
          "name": "stdout",
          "text": [
            "[0 0 0]\n",
            "[0 0 0]\n"
          ]
        }
      ]
    },
    {
      "cell_type": "code",
      "source": [
        "print(A * B)    #Mnożenie, ale nie macierzowe tylko po kolejnych liczbach (element po elemencie)\n",
        "print(np.multiply(A, B))"
      ],
      "metadata": {
        "colab": {
          "base_uri": "https://localhost:8080/"
        },
        "id": "Oc37bm6hRSxA",
        "outputId": "1219b2d1-5e18-4d8a-e958-b66ef8a9e58b"
      },
      "execution_count": null,
      "outputs": [
        {
          "output_type": "stream",
          "name": "stdout",
          "text": [
            "[1 4 9]\n",
            "[1 4 9]\n"
          ]
        }
      ]
    },
    {
      "cell_type": "code",
      "source": [
        "print(A / B)    #Dzielenie\n",
        "print(np.divide(A, B))"
      ],
      "metadata": {
        "colab": {
          "base_uri": "https://localhost:8080/"
        },
        "id": "I0tRT9d1RZBg",
        "outputId": "cfc6aa21-f12c-492b-e617-8f636b96b24a"
      },
      "execution_count": null,
      "outputs": [
        {
          "output_type": "stream",
          "name": "stdout",
          "text": [
            "[1. 1. 1.]\n",
            "[1. 1. 1.]\n"
          ]
        }
      ]
    },
    {
      "cell_type": "code",
      "source": [
        "X = np.array([[1, 2],\n",
        "              [1, 2]])\n",
        "Y = np.array([[7, 8],\n",
        "              [7, 8]])"
      ],
      "metadata": {
        "id": "axbt9RbRRhEJ"
      },
      "execution_count": null,
      "outputs": []
    },
    {
      "cell_type": "code",
      "source": [
        "np.matmul(X, Y)     #Prawdziwe monżenie macierzy"
      ],
      "metadata": {
        "colab": {
          "base_uri": "https://localhost:8080/"
        },
        "id": "-QjhD6IYR2h5",
        "outputId": "97c1779d-5511-49b4-c6ff-f681bd0c4624"
      },
      "execution_count": null,
      "outputs": [
        {
          "output_type": "execute_result",
          "data": {
            "text/plain": [
              "array([[21, 24],\n",
              "       [21, 24]])"
            ]
          },
          "metadata": {},
          "execution_count": 49
        }
      ]
    },
    {
      "cell_type": "code",
      "source": [
        "np.dot(X, Y)"
      ],
      "metadata": {
        "colab": {
          "base_uri": "https://localhost:8080/"
        },
        "id": "s6fxR-kwR__Y",
        "outputId": "128aa159-a409-4d49-d838-bf71c81316a0"
      },
      "execution_count": null,
      "outputs": [
        {
          "output_type": "execute_result",
          "data": {
            "text/plain": [
              "array([[21, 24],\n",
              "       [21, 24]])"
            ]
          },
          "metadata": {},
          "execution_count": 50
        }
      ]
    },
    {
      "cell_type": "code",
      "source": [
        "X.dot(Y)"
      ],
      "metadata": {
        "colab": {
          "base_uri": "https://localhost:8080/"
        },
        "id": "IjqO4GFwSJEp",
        "outputId": "fbef4da1-15c0-4168-b431-591d4db44e0e"
      },
      "execution_count": null,
      "outputs": [
        {
          "output_type": "execute_result",
          "data": {
            "text/plain": [
              "array([[21, 24],\n",
              "       [21, 24]])"
            ]
          },
          "metadata": {},
          "execution_count": 51
        }
      ]
    },
    {
      "cell_type": "code",
      "source": [
        "X @ Y"
      ],
      "metadata": {
        "colab": {
          "base_uri": "https://localhost:8080/"
        },
        "id": "5nxVEMV8SrOg",
        "outputId": "0bb7b772-8f21-4f97-e780-d4547c83ec00"
      },
      "execution_count": null,
      "outputs": [
        {
          "output_type": "execute_result",
          "data": {
            "text/plain": [
              "array([[21, 24],\n",
              "       [21, 24]])"
            ]
          },
          "metadata": {},
          "execution_count": 52
        }
      ]
    },
    {
      "cell_type": "markdown",
      "source": [
        "Generowanie liczb pseudolosowych"
      ],
      "metadata": {
        "id": "k_1Zt9XYSs8X"
      }
    },
    {
      "cell_type": "code",
      "source": [
        "np.random.randn(10, 4)  #liczby z rozkładu normalnego"
      ],
      "metadata": {
        "colab": {
          "base_uri": "https://localhost:8080/"
        },
        "id": "Rac_L6KeS7vv",
        "outputId": "a6518410-950b-42d0-e0f1-ddd1a0c898ca"
      },
      "execution_count": null,
      "outputs": [
        {
          "output_type": "execute_result",
          "data": {
            "text/plain": [
              "array([[-0.730768  , -0.84542388,  0.11009119,  1.03413543],\n",
              "       [ 1.15605886, -0.07498426, -1.36093906, -0.76252839],\n",
              "       [-1.21719622, -0.63184376, -1.44529212, -1.3431103 ],\n",
              "       [-0.14975043,  0.84419394, -0.17493886,  0.19123608],\n",
              "       [-1.44704958,  0.09588992,  1.66584834,  1.36877319],\n",
              "       [-0.13955885, -1.0448072 ,  0.40201865,  1.20422437],\n",
              "       [ 0.23513356, -0.63683484, -1.17161571,  0.22281469],\n",
              "       [ 0.80239116,  0.14666541, -0.93234097,  0.25106191],\n",
              "       [ 0.23223061, -0.24385796,  1.23217798, -0.26674401],\n",
              "       [-0.30844574, -0.8908769 ,  1.60732291, -0.56583331]])"
            ]
          },
          "metadata": {},
          "execution_count": 54
        }
      ]
    },
    {
      "cell_type": "code",
      "source": [
        "np.random.rand(10, 4) #liczby z przedziału {0, 1)"
      ],
      "metadata": {
        "colab": {
          "base_uri": "https://localhost:8080/"
        },
        "id": "_AsAQk5pWMjg",
        "outputId": "1ff0bd78-3c0e-45d7-d0e1-94b102e102ac"
      },
      "execution_count": null,
      "outputs": [
        {
          "output_type": "execute_result",
          "data": {
            "text/plain": [
              "array([[0.07055287, 0.48150763, 0.32429937, 0.29065037],\n",
              "       [0.50903601, 0.03160459, 0.14555808, 0.17030374],\n",
              "       [0.1491574 , 0.20471477, 0.37328326, 0.10676798],\n",
              "       [0.67695182, 0.73811279, 0.34341722, 0.56446485],\n",
              "       [0.04150677, 0.58941264, 0.6484678 , 0.32711194],\n",
              "       [0.3872179 , 0.11388882, 0.75624294, 0.65363108],\n",
              "       [0.26224337, 0.11814305, 0.64808268, 0.16332013],\n",
              "       [0.67168761, 0.83997691, 0.29343804, 0.99857043],\n",
              "       [0.08874418, 0.38114785, 0.32642002, 0.22565478],\n",
              "       [0.94243839, 0.20562325, 0.27760896, 0.47236903]])"
            ]
          },
          "metadata": {},
          "execution_count": 56
        }
      ]
    },
    {
      "cell_type": "code",
      "source": [
        "np.random.randint(low=10, high=100, size=100)   #100 liczb int z przedziału od 10 do 99"
      ],
      "metadata": {
        "colab": {
          "base_uri": "https://localhost:8080/"
        },
        "id": "743NIu9jWWZ9",
        "outputId": "e83678f3-5056-4119-b319-69072e95cb2a"
      },
      "execution_count": null,
      "outputs": [
        {
          "output_type": "execute_result",
          "data": {
            "text/plain": [
              "array([64, 55, 96, 22, 96, 18, 19, 83, 34, 21, 73, 37, 79, 49, 68, 40, 64,\n",
              "       35, 49, 71, 49, 16, 82, 78, 32, 67, 69, 48, 82, 47, 53, 67, 82, 17,\n",
              "       68, 83, 69, 83, 86, 91, 23, 31, 34, 28, 32, 86, 23, 49, 50, 30, 74,\n",
              "       75, 76, 25, 87, 21, 30, 97, 52, 36, 45, 19, 74, 68, 94, 15, 17, 59,\n",
              "       29, 56, 71, 79, 70, 74, 61, 11, 25, 65, 66, 64, 18, 51, 46, 48, 11,\n",
              "       51, 15, 25, 97, 99, 99, 70, 95, 33, 39, 22, 73, 22, 68, 25])"
            ]
          },
          "metadata": {},
          "execution_count": 58
        }
      ]
    },
    {
      "cell_type": "code",
      "source": [
        "np.random.choice([1, 2, 3, 4, 5])   #losowy wybór z iterowalnego obiektu"
      ],
      "metadata": {
        "colab": {
          "base_uri": "https://localhost:8080/"
        },
        "id": "UvKzS6-eWoWN",
        "outputId": "e6b2d9d4-2dad-4cfb-e0f1-6a123e480115"
      },
      "execution_count": null,
      "outputs": [
        {
          "output_type": "execute_result",
          "data": {
            "text/plain": [
              "3"
            ]
          },
          "metadata": {},
          "execution_count": 59
        }
      ]
    },
    {
      "cell_type": "code",
      "source": [
        "np.random.choice(['java', 'python', 'sql'])"
      ],
      "metadata": {
        "colab": {
          "base_uri": "https://localhost:8080/",
          "height": 35
        },
        "id": "pY0wcoKtXAnd",
        "outputId": "003e26b2-8cb0-493d-951e-c423a55f6d50"
      },
      "execution_count": null,
      "outputs": [
        {
          "output_type": "execute_result",
          "data": {
            "text/plain": [
              "'python'"
            ],
            "application/vnd.google.colaboratory.intrinsic+json": {
              "type": "string"
            }
          },
          "metadata": {},
          "execution_count": 60
        }
      ]
    },
    {
      "cell_type": "code",
      "source": [
        "a = np.arange(10)   #losowe przetasowanie elementów\n",
        "np.random.shuffle(a)\n",
        "a"
      ],
      "metadata": {
        "colab": {
          "base_uri": "https://localhost:8080/"
        },
        "id": "eSAAwpqNXEwN",
        "outputId": "94376a8f-4f9e-428e-e046-666825dde764"
      },
      "execution_count": null,
      "outputs": [
        {
          "output_type": "execute_result",
          "data": {
            "text/plain": [
              "array([4, 1, 9, 0, 6, 3, 8, 7, 2, 5])"
            ]
          },
          "metadata": {},
          "execution_count": 62
        }
      ]
    },
    {
      "cell_type": "code",
      "source": [
        "x = [i for i in range(20)]\n",
        "np.random.shuffle(x)\n",
        "print(x)"
      ],
      "metadata": {
        "colab": {
          "base_uri": "https://localhost:8080/"
        },
        "id": "DhERAcYqXONV",
        "outputId": "1a88158e-0cb5-4c61-95a6-02c4fc00dbc5"
      },
      "execution_count": null,
      "outputs": [
        {
          "output_type": "stream",
          "name": "stdout",
          "text": [
            "[5, 17, 2, 1, 16, 14, 11, 15, 12, 7, 6, 0, 4, 3, 10, 9, 18, 8, 19, 13]\n"
          ]
        }
      ]
    },
    {
      "cell_type": "markdown",
      "source": [
        "Poddstawowe funkcje w numpy"
      ],
      "metadata": {
        "id": "Ciolp2hbXlC2"
      }
    },
    {
      "cell_type": "code",
      "source": [
        "np.exp(1) #e^x"
      ],
      "metadata": {
        "colab": {
          "base_uri": "https://localhost:8080/"
        },
        "id": "0LVic5qAgEKI",
        "outputId": "55abda9c-a325-4e06-b252-9e53e69ba1e9"
      },
      "execution_count": null,
      "outputs": [
        {
          "output_type": "execute_result",
          "data": {
            "text/plain": [
              "2.718281828459045"
            ]
          },
          "metadata": {},
          "execution_count": 70
        }
      ]
    },
    {
      "cell_type": "code",
      "source": [
        "np.sqrt(9) #pierwiastek"
      ],
      "metadata": {
        "colab": {
          "base_uri": "https://localhost:8080/"
        },
        "id": "m_0C5-L_oVpj",
        "outputId": "89c27016-d661-47fd-caf7-abddf8a7da7a"
      },
      "execution_count": null,
      "outputs": [
        {
          "output_type": "execute_result",
          "data": {
            "text/plain": [
              "3.0"
            ]
          },
          "metadata": {},
          "execution_count": 71
        }
      ]
    },
    {
      "cell_type": "code",
      "source": [
        "np.all([1, 2, 3, True]) #jeśli wszystkie elementy są True to True, jeśli nie to False"
      ],
      "metadata": {
        "colab": {
          "base_uri": "https://localhost:8080/"
        },
        "id": "hVPf2p_govQT",
        "outputId": "4cb67e30-254c-4fcb-d058-47e57749d81e"
      },
      "execution_count": null,
      "outputs": [
        {
          "output_type": "execute_result",
          "data": {
            "text/plain": [
              "True"
            ]
          },
          "metadata": {},
          "execution_count": 73
        }
      ]
    },
    {
      "cell_type": "code",
      "source": [
        "np.any([True, False, False]) #jeśli co najmniej jeden element jest True to True jeśli nie to Fasle"
      ],
      "metadata": {
        "colab": {
          "base_uri": "https://localhost:8080/"
        },
        "id": "QNeWnBLHoyCt",
        "outputId": "f14d7c2c-41d3-4813-c023-62a3e939bffc"
      },
      "execution_count": null,
      "outputs": [
        {
          "output_type": "execute_result",
          "data": {
            "text/plain": [
              "True"
            ]
          },
          "metadata": {},
          "execution_count": 74
        }
      ]
    },
    {
      "cell_type": "code",
      "source": [
        "np.random.seed(10)\n",
        "A = np.random.rand(5)\n",
        "A"
      ],
      "metadata": {
        "colab": {
          "base_uri": "https://localhost:8080/"
        },
        "id": "eJ_LCoaHo-lU",
        "outputId": "fa317402-4976-4651-ee94-82d5a839eb55"
      },
      "execution_count": null,
      "outputs": [
        {
          "output_type": "execute_result",
          "data": {
            "text/plain": [
              "array([0.77132064, 0.02075195, 0.63364823, 0.74880388, 0.49850701])"
            ]
          },
          "metadata": {},
          "execution_count": 83
        }
      ]
    },
    {
      "cell_type": "code",
      "source": [
        "print('indeks najwiekszej wartości:', np.argmax(A))\n",
        "print('indeks najmniejszej wartości:', np.argmin(A))\n",
        "print('indeksy posortowanych wartości:', np.argsort(A))\n",
        "print('wartość największa:', np.max(A))\n",
        "print('wartość najmniejsza:', np.min(A))\n",
        "print('średnia:', np.mean(A))\n",
        "print('mediana:', np.median(A))\n",
        "print('odchylenie standardowe:', np.std(A))"
      ],
      "metadata": {
        "colab": {
          "base_uri": "https://localhost:8080/"
        },
        "id": "cDFF6FAZpJZN",
        "outputId": "16a71eb2-1c7d-4221-a7be-54491fd4d889"
      },
      "execution_count": null,
      "outputs": [
        {
          "output_type": "stream",
          "name": "stdout",
          "text": [
            "indeks najwiekszej wartości: 0\n",
            "indeks najmniejszej wartości: 1\n",
            "indeksy posortowanych wartości: [1 4 2 3 0]\n",
            "wartość największa: 0.771320643266746\n",
            "wartość najmniejsza: 0.0207519493594015\n",
            "średnia: 0.534606344478725\n",
            "mediana: 0.6336482349262754\n",
            "odchylenie standardowe: 0.2746172033183844\n"
          ]
        }
      ]
    },
    {
      "cell_type": "markdown",
      "source": [
        "Indeksowanie i wycinanie tablic"
      ],
      "metadata": {
        "id": "21P-TtX3pkAE"
      }
    },
    {
      "cell_type": "code",
      "source": [
        "A = np.arange(20)\n",
        "A[:5]"
      ],
      "metadata": {
        "colab": {
          "base_uri": "https://localhost:8080/"
        },
        "id": "gwLqNWYOrpX7",
        "outputId": "f9be11b4-0c49-4dab-ddca-bbf3bd2dd6b0"
      },
      "execution_count": null,
      "outputs": [
        {
          "output_type": "execute_result",
          "data": {
            "text/plain": [
              "array([0, 1, 2, 3, 4])"
            ]
          },
          "metadata": {},
          "execution_count": 86
        }
      ]
    },
    {
      "cell_type": "code",
      "source": [
        "A[3:]   #indeksowanie tak jak w w pythonie"
      ],
      "metadata": {
        "colab": {
          "base_uri": "https://localhost:8080/"
        },
        "id": "yGIY5BfN1uBW",
        "outputId": "80f48b2a-a993-48fc-a31c-c018591d0a56"
      },
      "execution_count": null,
      "outputs": [
        {
          "output_type": "execute_result",
          "data": {
            "text/plain": [
              "array([ 3,  4,  5,  6,  7,  8,  9, 10, 11, 12, 13, 14, 15, 16, 17, 18, 19])"
            ]
          },
          "metadata": {},
          "execution_count": 88
        }
      ]
    },
    {
      "cell_type": "code",
      "source": [
        "A[::2]"
      ],
      "metadata": {
        "colab": {
          "base_uri": "https://localhost:8080/"
        },
        "id": "CDY6MzDb1y9N",
        "outputId": "6a2d637c-7dae-4c46-8464-3866633abc2e"
      },
      "execution_count": null,
      "outputs": [
        {
          "output_type": "execute_result",
          "data": {
            "text/plain": [
              "array([ 0,  2,  4,  6,  8, 10, 12, 14, 16, 18])"
            ]
          },
          "metadata": {},
          "execution_count": 89
        }
      ]
    },
    {
      "cell_type": "code",
      "source": [
        "A[::-2]"
      ],
      "metadata": {
        "colab": {
          "base_uri": "https://localhost:8080/"
        },
        "id": "CH7MZMAM1609",
        "outputId": "7a84fd98-db5c-46e6-bd7c-308e2e50aad1"
      },
      "execution_count": null,
      "outputs": [
        {
          "output_type": "execute_result",
          "data": {
            "text/plain": [
              "array([19, 17, 15, 13, 11,  9,  7,  5,  3,  1])"
            ]
          },
          "metadata": {},
          "execution_count": 91
        }
      ]
    },
    {
      "cell_type": "code",
      "source": [
        "A = A.reshape(4, 5)"
      ],
      "metadata": {
        "id": "f_9__1kh2LpT"
      },
      "execution_count": null,
      "outputs": []
    },
    {
      "cell_type": "code",
      "source": [
        "A"
      ],
      "metadata": {
        "colab": {
          "base_uri": "https://localhost:8080/"
        },
        "id": "oOYU3wEQ2W0M",
        "outputId": "75dfee95-f5ea-475c-912f-b79bfa28f2bc"
      },
      "execution_count": null,
      "outputs": [
        {
          "output_type": "execute_result",
          "data": {
            "text/plain": [
              "array([[ 0,  1,  2,  3,  4],\n",
              "       [ 5,  6,  7,  8,  9],\n",
              "       [10, 11, 12, 13, 14],\n",
              "       [15, 16, 17, 18, 19]])"
            ]
          },
          "metadata": {},
          "execution_count": 93
        }
      ]
    },
    {
      "cell_type": "code",
      "source": [
        "A[0, :3]"
      ],
      "metadata": {
        "colab": {
          "base_uri": "https://localhost:8080/"
        },
        "id": "joaoM24I2XVL",
        "outputId": "9b24c922-2a1e-4282-a149-f0de8afe3832"
      },
      "execution_count": null,
      "outputs": [
        {
          "output_type": "execute_result",
          "data": {
            "text/plain": [
              "array([0, 1, 2])"
            ]
          },
          "metadata": {},
          "execution_count": 98
        }
      ]
    },
    {
      "cell_type": "code",
      "source": [
        "A[:, 0]"
      ],
      "metadata": {
        "colab": {
          "base_uri": "https://localhost:8080/"
        },
        "id": "9kj75zCo2cWs",
        "outputId": "194111d7-04d8-419a-aee8-b7248c686527"
      },
      "execution_count": null,
      "outputs": [
        {
          "output_type": "execute_result",
          "data": {
            "text/plain": [
              "array([ 0,  5, 10, 15])"
            ]
          },
          "metadata": {},
          "execution_count": 99
        }
      ]
    },
    {
      "cell_type": "code",
      "source": [
        "A[2, :]"
      ],
      "metadata": {
        "colab": {
          "base_uri": "https://localhost:8080/"
        },
        "id": "4RgL-8K12xOF",
        "outputId": "0209fc6c-e056-4de7-dad3-4d1a530e5369"
      },
      "execution_count": null,
      "outputs": [
        {
          "output_type": "execute_result",
          "data": {
            "text/plain": [
              "array([10, 11, 12, 13, 14])"
            ]
          },
          "metadata": {},
          "execution_count": 102
        }
      ]
    },
    {
      "cell_type": "code",
      "source": [
        "A[1, 1:4]"
      ],
      "metadata": {
        "colab": {
          "base_uri": "https://localhost:8080/"
        },
        "id": "p9uE9-pp29fv",
        "outputId": "d60d61dc-acfc-420d-d088-8958696f6267"
      },
      "execution_count": null,
      "outputs": [
        {
          "output_type": "execute_result",
          "data": {
            "text/plain": [
              "array([6, 7, 8])"
            ]
          },
          "metadata": {},
          "execution_count": 103
        }
      ]
    },
    {
      "cell_type": "code",
      "source": [
        "A[1:3, 1:4]"
      ],
      "metadata": {
        "colab": {
          "base_uri": "https://localhost:8080/"
        },
        "id": "QJvUyehH3t6t",
        "outputId": "8ed60a5d-a971-4b3e-8336-e2881d248c7d"
      },
      "execution_count": null,
      "outputs": [
        {
          "output_type": "execute_result",
          "data": {
            "text/plain": [
              "array([[ 6,  7,  8],\n",
              "       [11, 12, 13]])"
            ]
          },
          "metadata": {},
          "execution_count": 104
        }
      ]
    },
    {
      "cell_type": "markdown",
      "source": [
        "Iteracje po tablicach, zmiana rozmiaru, maski logiczne"
      ],
      "metadata": {
        "id": "wY5GqVMU36l3"
      }
    },
    {
      "cell_type": "code",
      "source": [
        "A = np.arange(20)\n",
        "A = A.reshape(4, -1)\n",
        "A"
      ],
      "metadata": {
        "id": "F2h64HP7AjrI",
        "colab": {
          "base_uri": "https://localhost:8080/"
        },
        "outputId": "463cc784-e4bc-42b5-f8d3-33e1c740a74d"
      },
      "execution_count": 105,
      "outputs": [
        {
          "output_type": "execute_result",
          "data": {
            "text/plain": [
              "array([[ 0,  1,  2,  3,  4],\n",
              "       [ 5,  6,  7,  8,  9],\n",
              "       [10, 11, 12, 13, 14],\n",
              "       [15, 16, 17, 18, 19]])"
            ]
          },
          "metadata": {},
          "execution_count": 105
        }
      ]
    },
    {
      "cell_type": "code",
      "source": [
        "for row in A:   #standardowo iterowanie po wierszach\n",
        "    print(row)"
      ],
      "metadata": {
        "colab": {
          "base_uri": "https://localhost:8080/"
        },
        "id": "RETbcn33I1Fi",
        "outputId": "8ba77c04-255d-4393-c20e-9734a79ada9a"
      },
      "execution_count": 106,
      "outputs": [
        {
          "output_type": "stream",
          "name": "stdout",
          "text": [
            "[0 1 2 3 4]\n",
            "[5 6 7 8 9]\n",
            "[10 11 12 13 14]\n",
            "[15 16 17 18 19]\n"
          ]
        }
      ]
    },
    {
      "cell_type": "code",
      "source": [
        "for row in A:\n",
        "    print(row[::-1])"
      ],
      "metadata": {
        "colab": {
          "base_uri": "https://localhost:8080/"
        },
        "id": "qskgrDCRI5N6",
        "outputId": "d747c2db-2468-4ad4-f65c-f24009ebbd11"
      },
      "execution_count": 107,
      "outputs": [
        {
          "output_type": "stream",
          "name": "stdout",
          "text": [
            "[4 3 2 1 0]\n",
            "[9 8 7 6 5]\n",
            "[14 13 12 11 10]\n",
            "[19 18 17 16 15]\n"
          ]
        }
      ]
    },
    {
      "cell_type": "code",
      "source": [
        "for item in A.flat: #wypłaszczenie macierzy\n",
        "    print(item, end=\" \")"
      ],
      "metadata": {
        "colab": {
          "base_uri": "https://localhost:8080/"
        },
        "id": "xw7SHdD7I_Nq",
        "outputId": "504e33d2-ff8e-495e-d2c2-7dc3ec082d57"
      },
      "execution_count": 112,
      "outputs": [
        {
          "output_type": "stream",
          "name": "stdout",
          "text": [
            "0 1 2 3 4 5 6 7 8 9 10 11 12 13 14 15 16 17 18 19 "
          ]
        }
      ]
    },
    {
      "cell_type": "code",
      "source": [
        "A.ravel()   #wypłaszczenie macierzy"
      ],
      "metadata": {
        "colab": {
          "base_uri": "https://localhost:8080/"
        },
        "id": "Y-C_XhjyJEtb",
        "outputId": "16f2bef6-acc8-486f-e74b-222db7da3c6f"
      },
      "execution_count": 113,
      "outputs": [
        {
          "output_type": "execute_result",
          "data": {
            "text/plain": [
              "array([ 0,  1,  2,  3,  4,  5,  6,  7,  8,  9, 10, 11, 12, 13, 14, 15, 16,\n",
              "       17, 18, 19])"
            ]
          },
          "metadata": {},
          "execution_count": 113
        }
      ]
    },
    {
      "cell_type": "code",
      "source": [
        "A.reshape(1, -1)"
      ],
      "metadata": {
        "colab": {
          "base_uri": "https://localhost:8080/"
        },
        "id": "vTbwM0dNJVe7",
        "outputId": "25965920-d0e0-4717-a97a-64548d9ce7b3"
      },
      "execution_count": 115,
      "outputs": [
        {
          "output_type": "execute_result",
          "data": {
            "text/plain": [
              "array([[ 0,  1,  2,  3,  4,  5,  6,  7,  8,  9, 10, 11, 12, 13, 14, 15,\n",
              "        16, 17, 18, 19]])"
            ]
          },
          "metadata": {},
          "execution_count": 115
        }
      ]
    },
    {
      "cell_type": "code",
      "source": [
        "A.T #transpozycja"
      ],
      "metadata": {
        "colab": {
          "base_uri": "https://localhost:8080/"
        },
        "id": "y_c77me7JWDx",
        "outputId": "e66ab1e1-a258-4cea-f537-e7dccb869b92"
      },
      "execution_count": 117,
      "outputs": [
        {
          "output_type": "execute_result",
          "data": {
            "text/plain": [
              "array([[ 0,  5, 10, 15],\n",
              "       [ 1,  6, 11, 16],\n",
              "       [ 2,  7, 12, 17],\n",
              "       [ 3,  8, 13, 18],\n",
              "       [ 4,  9, 14, 19]])"
            ]
          },
          "metadata": {},
          "execution_count": 117
        }
      ]
    },
    {
      "cell_type": "code",
      "source": [
        "A = np.arange(start=-10, stop=10, step=0.5)\n",
        "A = A.reshape(10, -1)\n",
        "A"
      ],
      "metadata": {
        "colab": {
          "base_uri": "https://localhost:8080/"
        },
        "id": "Z6WNzOrQJjNp",
        "outputId": "cdf3aca3-8931-4932-8b2b-d893f92d3448"
      },
      "execution_count": 120,
      "outputs": [
        {
          "output_type": "execute_result",
          "data": {
            "text/plain": [
              "array([[-10. ,  -9.5,  -9. ,  -8.5],\n",
              "       [ -8. ,  -7.5,  -7. ,  -6.5],\n",
              "       [ -6. ,  -5.5,  -5. ,  -4.5],\n",
              "       [ -4. ,  -3.5,  -3. ,  -2.5],\n",
              "       [ -2. ,  -1.5,  -1. ,  -0.5],\n",
              "       [  0. ,   0.5,   1. ,   1.5],\n",
              "       [  2. ,   2.5,   3. ,   3.5],\n",
              "       [  4. ,   4.5,   5. ,   5.5],\n",
              "       [  6. ,   6.5,   7. ,   7.5],\n",
              "       [  8. ,   8.5,   9. ,   9.5]])"
            ]
          },
          "metadata": {},
          "execution_count": 120
        }
      ]
    },
    {
      "cell_type": "code",
      "source": [
        "A > 0"
      ],
      "metadata": {
        "colab": {
          "base_uri": "https://localhost:8080/"
        },
        "id": "t18Ah0llJ1IZ",
        "outputId": "a3b6181a-f6be-430e-acbe-329e2baa7306"
      },
      "execution_count": 121,
      "outputs": [
        {
          "output_type": "execute_result",
          "data": {
            "text/plain": [
              "array([[False, False, False, False],\n",
              "       [False, False, False, False],\n",
              "       [False, False, False, False],\n",
              "       [False, False, False, False],\n",
              "       [False, False, False, False],\n",
              "       [False,  True,  True,  True],\n",
              "       [ True,  True,  True,  True],\n",
              "       [ True,  True,  True,  True],\n",
              "       [ True,  True,  True,  True],\n",
              "       [ True,  True,  True,  True]])"
            ]
          },
          "metadata": {},
          "execution_count": 121
        }
      ]
    },
    {
      "cell_type": "code",
      "source": [
        "A[A > 0]    #maski logiczne"
      ],
      "metadata": {
        "colab": {
          "base_uri": "https://localhost:8080/"
        },
        "id": "7B8pSncpKFsy",
        "outputId": "8a7313d0-5f5f-4f44-8405-a2d36a37d369"
      },
      "execution_count": 122,
      "outputs": [
        {
          "output_type": "execute_result",
          "data": {
            "text/plain": [
              "array([0.5, 1. , 1.5, 2. , 2.5, 3. , 3.5, 4. , 4.5, 5. , 5.5, 6. , 6.5,\n",
              "       7. , 7.5, 8. , 8.5, 9. , 9.5])"
            ]
          },
          "metadata": {},
          "execution_count": 122
        }
      ]
    },
    {
      "cell_type": "code",
      "source": [
        "A[np.bitwise_and(A > -5, A < 5)]    #łączenie warunków and"
      ],
      "metadata": {
        "colab": {
          "base_uri": "https://localhost:8080/"
        },
        "id": "Frxgv9n2KNHz",
        "outputId": "c7065566-6697-4081-a618-638e0b6a7d05"
      },
      "execution_count": 130,
      "outputs": [
        {
          "output_type": "execute_result",
          "data": {
            "text/plain": [
              "array([-4.5, -4. , -3.5, -3. , -2.5, -2. , -1.5, -1. , -0.5,  0. ,  0.5,\n",
              "        1. ,  1.5,  2. ,  2.5,  3. ,  3.5,  4. ,  4.5])"
            ]
          },
          "metadata": {},
          "execution_count": 130
        }
      ]
    },
    {
      "cell_type": "code",
      "source": [
        "A[np.bitwise_and(A > -9, A < -2.5)]"
      ],
      "metadata": {
        "colab": {
          "base_uri": "https://localhost:8080/"
        },
        "id": "bASOwVq1Kkv5",
        "outputId": "3e527817-cf13-41ff-b0f8-b830e1ebba7e"
      },
      "execution_count": 132,
      "outputs": [
        {
          "output_type": "execute_result",
          "data": {
            "text/plain": [
              "array([-8.5, -8. , -7.5, -7. , -6.5, -6. , -5.5, -5. , -4.5, -4. , -3.5,\n",
              "       -3. ])"
            ]
          },
          "metadata": {},
          "execution_count": 132
        }
      ]
    },
    {
      "cell_type": "code",
      "source": [
        "A[np.bitwise_or(A < -5, A > 5)] #łączenie warunków or"
      ],
      "metadata": {
        "colab": {
          "base_uri": "https://localhost:8080/"
        },
        "id": "XNEpkU8ULpx6",
        "outputId": "a77e320e-0e9c-48ab-db02-23828ffd8c44"
      },
      "execution_count": 134,
      "outputs": [
        {
          "output_type": "execute_result",
          "data": {
            "text/plain": [
              "array([-10. ,  -9.5,  -9. ,  -8.5,  -8. ,  -7.5,  -7. ,  -6.5,  -6. ,\n",
              "        -5.5,   5.5,   6. ,   6.5,   7. ,   7.5,   8. ,   8.5,   9. ,\n",
              "         9.5])"
            ]
          },
          "metadata": {},
          "execution_count": 134
        }
      ]
    },
    {
      "cell_type": "code",
      "source": [],
      "metadata": {
        "id": "NPuRRPeTLyq5"
      },
      "execution_count": null,
      "outputs": []
    }
  ]
}