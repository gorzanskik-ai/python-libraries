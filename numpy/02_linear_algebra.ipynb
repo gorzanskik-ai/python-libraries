{
  "nbformat": 4,
  "nbformat_minor": 0,
  "metadata": {
    "colab": {
      "provenance": [],
      "authorship_tag": "ABX9TyNDO26uXVA9UpVe0UVSiyts",
      "include_colab_link": true
    },
    "kernelspec": {
      "name": "python3",
      "display_name": "Python 3"
    },
    "language_info": {
      "name": "python"
    }
  },
  "cells": [
    {
      "cell_type": "markdown",
      "metadata": {
        "id": "view-in-github",
        "colab_type": "text"
      },
      "source": [
        "<a href=\"https://colab.research.google.com/github/gorzanskik-ai/python-libraries/blob/main/numpy/02_linear_algebra.ipynb\" target=\"_parent\"><img src=\"https://colab.research.google.com/assets/colab-badge.svg\" alt=\"Open In Colab\"/></a>"
      ]
    },
    {
      "cell_type": "code",
      "execution_count": 1,
      "metadata": {
        "id": "rCkVKYjN4JyN"
      },
      "outputs": [],
      "source": [
        "import numpy as np"
      ]
    },
    {
      "cell_type": "markdown",
      "source": [
        "Norma euklidesowa w R2"
      ],
      "metadata": {
        "id": "DmlRyTDp44QM"
      }
    },
    {
      "cell_type": "code",
      "source": [
        "v1 = np.array([0, 4])\n",
        "np.linalg.norm(v1)"
      ],
      "metadata": {
        "colab": {
          "base_uri": "https://localhost:8080/"
        },
        "id": "HJ51A-AE-Ftg",
        "outputId": "0c18425b-4367-4581-de32-5081aad153c6"
      },
      "execution_count": 2,
      "outputs": [
        {
          "output_type": "execute_result",
          "data": {
            "text/plain": [
              "4.0"
            ]
          },
          "metadata": {},
          "execution_count": 2
        }
      ]
    },
    {
      "cell_type": "markdown",
      "source": [
        "Norma euklidesowa w R3"
      ],
      "metadata": {
        "id": "DHLLKSgg-N4J"
      }
    },
    {
      "cell_type": "code",
      "source": [
        "v2 = np.array([1, 2, 3])\n",
        "np.linalg.norm(v2)"
      ],
      "metadata": {
        "colab": {
          "base_uri": "https://localhost:8080/"
        },
        "id": "kEiLsiop-605",
        "outputId": "03ad6abb-3e53-488a-cd74-ef7472629211"
      },
      "execution_count": 3,
      "outputs": [
        {
          "output_type": "execute_result",
          "data": {
            "text/plain": [
              "3.7416573867739413"
            ]
          },
          "metadata": {},
          "execution_count": 3
        }
      ]
    },
    {
      "cell_type": "markdown",
      "source": [
        "Odległość dwóch punktów na płaszczyźnie R2"
      ],
      "metadata": {
        "id": "RrJZh4Gh-_OY"
      }
    },
    {
      "cell_type": "code",
      "source": [
        "p = np.array([10, 12])\n",
        "q = np.array([1, 4])\n",
        "np.linalg.norm(p - q)"
      ],
      "metadata": {
        "colab": {
          "base_uri": "https://localhost:8080/"
        },
        "id": "bzwegZIL_thH",
        "outputId": "b37ecdba-0af9-456a-fddc-d26fe82eb7bc"
      },
      "execution_count": 4,
      "outputs": [
        {
          "output_type": "execute_result",
          "data": {
            "text/plain": [
              "12.041594578792296"
            ]
          },
          "metadata": {},
          "execution_count": 4
        }
      ]
    },
    {
      "cell_type": "markdown",
      "source": [
        "Odległość dwóch punktów na płaszczyźnie R3"
      ],
      "metadata": {
        "id": "XaHP8Xzx_1lY"
      }
    },
    {
      "cell_type": "code",
      "source": [
        "p = np.array([1, 10, 12])\n",
        "q = np.array([12, 1, 10])\n",
        "np.linalg.norm(p - q)"
      ],
      "metadata": {
        "colab": {
          "base_uri": "https://localhost:8080/"
        },
        "id": "Sgb73gHbAY_Y",
        "outputId": "3f4a34f5-b440-4afe-c52d-5ccf75e1f087"
      },
      "execution_count": 5,
      "outputs": [
        {
          "output_type": "execute_result",
          "data": {
            "text/plain": [
              "14.352700094407323"
            ]
          },
          "metadata": {},
          "execution_count": 5
        }
      ]
    },
    {
      "cell_type": "markdown",
      "source": [
        "Mnożenie macierzy"
      ],
      "metadata": {
        "id": "5q6j5z-wBByw"
      }
    },
    {
      "cell_type": "code",
      "source": [
        "mat1 = np.array([[1, 2],\n",
        "                [1, 2]])\n",
        "mat2 = np.array([[12, 12],\n",
        "                [13, 17]])\n",
        "print(np.dot(mat1, mat2))\n",
        "print(np.matmul(mat1, mat2))\n",
        "print(mat1 @ mat2)"
      ],
      "metadata": {
        "colab": {
          "base_uri": "https://localhost:8080/"
        },
        "id": "ST3Uc4tmB_8S",
        "outputId": "0f03df8e-2e27-4ea9-d11b-87d2daf09e16"
      },
      "execution_count": 11,
      "outputs": [
        {
          "output_type": "stream",
          "name": "stdout",
          "text": [
            "[[38 46]\n",
            " [38 46]]\n",
            "[[38 46]\n",
            " [38 46]]\n",
            "[[38 46]\n",
            " [38 46]]\n"
          ]
        }
      ]
    },
    {
      "cell_type": "markdown",
      "source": [
        "Wyznacznik macierzy  "
      ],
      "metadata": {
        "id": "0WdgKELCCKcn"
      }
    },
    {
      "cell_type": "code",
      "source": [
        "A = np.array([[2, 4],\n",
        "              [-1, 3]])\n",
        "np.linalg.det(A)"
      ],
      "metadata": {
        "colab": {
          "base_uri": "https://localhost:8080/"
        },
        "id": "IeD7x6VkExot",
        "outputId": "e5544f29-9e6a-476b-f5d9-ac6a7b655552"
      },
      "execution_count": 12,
      "outputs": [
        {
          "output_type": "execute_result",
          "data": {
            "text/plain": [
              "9.999999999999998"
            ]
          },
          "metadata": {},
          "execution_count": 12
        }
      ]
    },
    {
      "cell_type": "markdown",
      "source": [
        "Ślad macierzy"
      ],
      "metadata": {
        "id": "ebi9rOMRE3Mh"
      }
    },
    {
      "cell_type": "code",
      "source": [
        "A = np.array([[2, 4, 12],\n",
        "              [-1, 3, 12],\n",
        "              [1, 10, 111]])\n",
        "np.trace(A)"
      ],
      "metadata": {
        "colab": {
          "base_uri": "https://localhost:8080/"
        },
        "id": "0VU7m2QmFUeN",
        "outputId": "194e2772-fb76-4f0a-8e6f-8c94eb9ba7a5"
      },
      "execution_count": 14,
      "outputs": [
        {
          "output_type": "execute_result",
          "data": {
            "text/plain": [
              "116"
            ]
          },
          "metadata": {},
          "execution_count": 14
        }
      ]
    },
    {
      "cell_type": "markdown",
      "source": [
        "Macierz jednostkowa"
      ],
      "metadata": {
        "id": "wfKdqL06Fafu"
      }
    },
    {
      "cell_type": "code",
      "source": [
        "np.eye(5, dtype='int')"
      ],
      "metadata": {
        "colab": {
          "base_uri": "https://localhost:8080/"
        },
        "id": "tlIUBb1bF_3V",
        "outputId": "a43d6124-83c2-49c5-f665-f316ad45ddd7"
      },
      "execution_count": 15,
      "outputs": [
        {
          "output_type": "execute_result",
          "data": {
            "text/plain": [
              "array([[1, 0, 0, 0, 0],\n",
              "       [0, 1, 0, 0, 0],\n",
              "       [0, 0, 1, 0, 0],\n",
              "       [0, 0, 0, 1, 0],\n",
              "       [0, 0, 0, 0, 1]])"
            ]
          },
          "metadata": {},
          "execution_count": 15
        }
      ]
    },
    {
      "cell_type": "markdown",
      "source": [
        "Macierz odwrotna"
      ],
      "metadata": {
        "id": "zJSkl3czGCac"
      }
    },
    {
      "cell_type": "code",
      "source": [
        "np.set_printoptions(precision=4, suppress=True)\n",
        "A = np.array([[1, 2],\n",
        "              [3, 4]])\n",
        "B = np.linalg.inv(A)\n",
        "print(B)\n",
        "print(A @ B)"
      ],
      "metadata": {
        "colab": {
          "base_uri": "https://localhost:8080/"
        },
        "id": "sZrT3xUQGH38",
        "outputId": "ae59192b-a67b-4888-a45c-b468eb694143"
      },
      "execution_count": 22,
      "outputs": [
        {
          "output_type": "stream",
          "name": "stdout",
          "text": [
            "[[-2.   1. ]\n",
            " [ 1.5 -0.5]]\n",
            "[[1. 0.]\n",
            " [0. 1.]]\n"
          ]
        }
      ]
    },
    {
      "cell_type": "markdown",
      "source": [
        "Macierz transponowana"
      ],
      "metadata": {
        "id": "mQ-L_C4LG25V"
      }
    },
    {
      "cell_type": "code",
      "source": [
        "A = np.array([[1, 2],\n",
        "              [3, 4]])\n",
        "print(A.T)\n",
        "print(np.transpose(A))"
      ],
      "metadata": {
        "colab": {
          "base_uri": "https://localhost:8080/"
        },
        "id": "7aUH-aFqHLqu",
        "outputId": "6e1916ca-58c7-4566-c7fb-2a15fe04079c"
      },
      "execution_count": 24,
      "outputs": [
        {
          "output_type": "stream",
          "name": "stdout",
          "text": [
            "[[1 3]\n",
            " [2 4]]\n",
            "[[1 3]\n",
            " [2 4]]\n"
          ]
        }
      ]
    },
    {
      "cell_type": "markdown",
      "source": [
        "Rozwiązywanie układu równań"
      ],
      "metadata": {
        "id": "7vju105YHXyM"
      }
    },
    {
      "cell_type": "code",
      "source": [
        "# AX = B\n",
        "# A^(-1)AX = A^(-1)B\n",
        "# X = A^(-1)B\n",
        "A = np.array([[2, 4],\n",
        "              [1, -1]])\n",
        "B = np.array([[10],\n",
        "              [-1]])\n",
        "\n",
        "X = np.linalg.inv(A) @ B\n",
        "X"
      ],
      "metadata": {
        "colab": {
          "base_uri": "https://localhost:8080/"
        },
        "id": "4G25J_DOH_k8",
        "outputId": "0dfa7447-d8a6-4f25-cd68-db6e28848b03"
      },
      "execution_count": 26,
      "outputs": [
        {
          "output_type": "execute_result",
          "data": {
            "text/plain": [
              "array([[1.],\n",
              "       [2.]])"
            ]
          },
          "metadata": {},
          "execution_count": 26
        }
      ]
    },
    {
      "cell_type": "code",
      "source": [],
      "metadata": {
        "id": "Qo57BOQgKGiK"
      },
      "execution_count": null,
      "outputs": []
    }
  ]
}